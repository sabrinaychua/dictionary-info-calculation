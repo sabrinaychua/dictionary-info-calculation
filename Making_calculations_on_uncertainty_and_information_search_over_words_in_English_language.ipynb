{
  "nbformat": 4,
  "nbformat_minor": 0,
  "metadata": {
    "kernelspec": {
      "display_name": "Python 3",
      "language": "python",
      "name": "python3"
    },
    "language_info": {
      "codemirror_mode": {
        "name": "ipython",
        "version": 3
      },
      "file_extension": ".py",
      "mimetype": "text/x-python",
      "name": "python",
      "nbconvert_exporter": "python",
      "pygments_lexer": "ipython3",
      "version": "3.8.5"
    },
    "colab": {
      "name": "Making calculations on uncertainty and information search over words in English language.ipynb",
      "provenance": []
    }
  },
  "cells": [
    {
      "cell_type": "code",
      "metadata": {
        "id": "Qnpoo6c3Mvnd",
        "colab_type": "code",
        "colab": {}
      },
      "source": [
        "import pandas as pd\n",
        "import numpy as np\n",
        "import matplotlib.pyplot as plt\n",
        "import sys\n",
        "# from pprint import pprint as p\n",
        "# p(sys.path)"
      ],
      "execution_count": null,
      "outputs": []
    },
    {
      "cell_type": "markdown",
      "metadata": {
        "id": "h8erhZgyMvni",
        "colab_type": "text"
      },
      "source": [
        "<h3>CogSci 131 Spring '20<br></h3>\n",
        "    <hr>\n",
        "    <br>\n",
        "<h1>Making calculations on uncertainty and information search over words in English language\n",
        "</h1><br>\n",
        "<subtitle>Yi Chua</subtitle>  \n",
        "\n",
        "<br> \n",
        "I will be doing some information-theoretic calculations on the English language using a dictionary of words as outcomes and frequencies we will assume are proportional to $P(word)$. That is, the distribution considered is: $$P(word)=\\frac{\\text{frequency word}}{\\sum \\text{words frequencies}}$$"
      ]
    },
    {
      "cell_type": "markdown",
      "metadata": {
        "id": "2cQ_rTXKMvni",
        "colab_type": "text"
      },
      "source": [
        "<h2>Guessing English Words with 20 Questions!</h2>\n",
        "\n",
        "20 questions is a game between 2 players, a questioner and an answerer. In this scenario, the answerer would choose a word while not revealing it to the questioner. The game is simple, each turn the questioner would ask questions and the answerer would respond with either a yes or no. The questioner would strategically ask questions that would improve his/her chance of winning the game, but using no more than 20 questions.\n",
        "\n",
        "Let's see what the odds are for the answerer to win 20 questions by calculating the entropies over words in American English in two scenarios:  \n",
        "<br>\n",
        "a) frequency of the words  \n",
        "b) number of words in the data set."
      ]
    },
    {
      "cell_type": "markdown",
      "metadata": {
        "id": "8hPgFo7iMvnj",
        "colab_type": "text"
      },
      "source": [
        "#### a) conditioning on the frequency of the words"
      ]
    },
    {
      "cell_type": "code",
      "metadata": {
        "id": "zG9TocQAMvnj",
        "colab_type": "code",
        "colab": {}
      },
      "source": [
        "dict_of_words = pd.read_csv('WordFrequenciesdat.csv', header = None, names = ['words', 'frequency'])\n",
        "\n",
        "sum_of_wfreq = np.sum(dict_of_words['frequency'])\n",
        "\n",
        "dict_of_words['p(word)'] = dict_of_words['frequency'] / sum_of_wfreq"
      ],
      "execution_count": null,
      "outputs": []
    },
    {
      "cell_type": "code",
      "metadata": {
        "id": "GyRS7WSmMvnp",
        "colab_type": "code",
        "colab": {
          "base_uri": "https://localhost:8080/",
          "height": 204
        },
        "outputId": "0d5b0d62-2ba1-43ff-c165-3637c2eb8597"
      },
      "source": [
        "#column with computed surprisal\n",
        "dict_of_words['surprisal'] = - np.log2( dict_of_words['p(word)'])\n",
        "\n",
        "#column with computed code length\n",
        "dict_of_words['code length'] = dict_of_words['p(word)'] * dict_of_words['surprisal']\n",
        "\n",
        "#first 10 rows of data frame \n",
        "dict_of_words.head(5)"
      ],
      "execution_count": null,
      "outputs": [
        {
          "output_type": "execute_result",
          "data": {
            "text/html": [
              "<div>\n",
              "<style scoped>\n",
              "    .dataframe tbody tr th:only-of-type {\n",
              "        vertical-align: middle;\n",
              "    }\n",
              "\n",
              "    .dataframe tbody tr th {\n",
              "        vertical-align: top;\n",
              "    }\n",
              "\n",
              "    .dataframe thead th {\n",
              "        text-align: right;\n",
              "    }\n",
              "</style>\n",
              "<table border=\"1\" class=\"dataframe\">\n",
              "  <thead>\n",
              "    <tr style=\"text-align: right;\">\n",
              "      <th></th>\n",
              "      <th>words</th>\n",
              "      <th>frequency</th>\n",
              "      <th>p(word)</th>\n",
              "      <th>surprisal</th>\n",
              "      <th>code length</th>\n",
              "    </tr>\n",
              "  </thead>\n",
              "  <tbody>\n",
              "    <tr>\n",
              "      <th>0</th>\n",
              "      <td>i</td>\n",
              "      <td>152884</td>\n",
              "      <td>0.039609</td>\n",
              "      <td>4.658022</td>\n",
              "      <td>0.184500</td>\n",
              "    </tr>\n",
              "    <tr>\n",
              "      <th>1</th>\n",
              "      <td>and</td>\n",
              "      <td>128635</td>\n",
              "      <td>0.033327</td>\n",
              "      <td>4.907176</td>\n",
              "      <td>0.163540</td>\n",
              "    </tr>\n",
              "    <tr>\n",
              "      <th>2</th>\n",
              "      <td>the</td>\n",
              "      <td>123648</td>\n",
              "      <td>0.032035</td>\n",
              "      <td>4.964221</td>\n",
              "      <td>0.159027</td>\n",
              "    </tr>\n",
              "    <tr>\n",
              "      <th>3</th>\n",
              "      <td>you</td>\n",
              "      <td>106042</td>\n",
              "      <td>0.027473</td>\n",
              "      <td>5.185824</td>\n",
              "      <td>0.142472</td>\n",
              "    </tr>\n",
              "    <tr>\n",
              "      <th>4</th>\n",
              "      <td>it</td>\n",
              "      <td>99341</td>\n",
              "      <td>0.025737</td>\n",
              "      <td>5.279998</td>\n",
              "      <td>0.135893</td>\n",
              "    </tr>\n",
              "  </tbody>\n",
              "</table>\n",
              "</div>"
            ],
            "text/plain": [
              "  words  frequency   p(word)  surprisal  code length\n",
              "0     i     152884  0.039609   4.658022     0.184500\n",
              "1   and     128635  0.033327   4.907176     0.163540\n",
              "2   the     123648  0.032035   4.964221     0.159027\n",
              "3   you     106042  0.027473   5.185824     0.142472\n",
              "4    it      99341  0.025737   5.279998     0.135893"
            ]
          },
          "metadata": {
            "tags": []
          },
          "execution_count": 4
        }
      ]
    },
    {
      "cell_type": "code",
      "metadata": {
        "id": "DZLd3pp2Mvnv",
        "colab_type": "code",
        "colab": {
          "base_uri": "https://localhost:8080/",
          "height": 34
        },
        "outputId": "3befba25-a505-43f6-d3f6-534f5ab74034"
      },
      "source": [
        "#entropy of english \n",
        "entropy = np.sum(dict_of_words['code length'])\n",
        "entropy"
      ],
      "execution_count": null,
      "outputs": [
        {
          "output_type": "execute_result",
          "data": {
            "text/plain": [
              "8.938139929022174"
            ]
          },
          "metadata": {
            "tags": []
          },
          "execution_count": 5
        }
      ]
    },
    {
      "cell_type": "markdown",
      "metadata": {
        "id": "JHoZZtiQMvny",
        "colab_type": "text"
      },
      "source": [
        "> The entropy over words in English is $\\text{8.938 bits}$ of information."
      ]
    },
    {
      "cell_type": "markdown",
      "metadata": {
        "id": "3viTPr7CMvnz",
        "colab_type": "text"
      },
      "source": [
        "### Is the game “20 questions” is a fair game in *scenario a*?\n",
        "- Can a player win more than half the time—assuming the word being guessed is chosen **according to frequency**?\n",
        "\n",
        "> Assuming if the words being guessed are chosen according to frequency, about 9 bits of information (or 9 questions) are needed to determine which word is referred to, therefore, it seems like a fair game."
      ]
    },
    {
      "cell_type": "markdown",
      "metadata": {
        "id": "hfMKLJPEMvn0",
        "colab_type": "text"
      },
      "source": [
        "#### b) conditioning on the total number of words in the data set\n",
        "where $P(word)=\\frac{1}{\\text{number of words in data set}}$ "
      ]
    },
    {
      "cell_type": "code",
      "metadata": {
        "id": "u0GAogbXMvn0",
        "colab_type": "code",
        "colab": {
          "base_uri": "https://localhost:8080/",
          "height": 204
        },
        "outputId": "13fd000f-173d-40da-9848-9ac1f6527d75"
      },
      "source": [
        "#duplicate dataframe dict_of_words\n",
        "dict_of_words2 = dict_of_words\n",
        "\n",
        "#remove preexisitng columns\n",
        "dict_of_words2 = dict_of_words2.drop(columns=['p(word)', 'surprisal', 'code length'])\n",
        "\n",
        "#add column with uniform probability\n",
        "dict_of_words2['p(word)'] = 1 / dict_of_words2.shape[0]\n",
        "\n",
        "#add column with computed surprisal\n",
        "dict_of_words2['surprisal'] = - np.log2( dict_of_words2['p(word)'])\n",
        "\n",
        "#add column with computed code length\n",
        "dict_of_words2['code length'] = dict_of_words2['p(word)'] * dict_of_words2['surprisal']\n",
        "\n",
        "#first 5 rows of the updated data frame \n",
        "dict_of_words2.head()"
      ],
      "execution_count": null,
      "outputs": [
        {
          "output_type": "execute_result",
          "data": {
            "text/html": [
              "<div>\n",
              "<style scoped>\n",
              "    .dataframe tbody tr th:only-of-type {\n",
              "        vertical-align: middle;\n",
              "    }\n",
              "\n",
              "    .dataframe tbody tr th {\n",
              "        vertical-align: top;\n",
              "    }\n",
              "\n",
              "    .dataframe thead th {\n",
              "        text-align: right;\n",
              "    }\n",
              "</style>\n",
              "<table border=\"1\" class=\"dataframe\">\n",
              "  <thead>\n",
              "    <tr style=\"text-align: right;\">\n",
              "      <th></th>\n",
              "      <th>words</th>\n",
              "      <th>frequency</th>\n",
              "      <th>p(word)</th>\n",
              "      <th>surprisal</th>\n",
              "      <th>code length</th>\n",
              "    </tr>\n",
              "  </thead>\n",
              "  <tbody>\n",
              "    <tr>\n",
              "      <th>0</th>\n",
              "      <td>i</td>\n",
              "      <td>152884</td>\n",
              "      <td>0.000024</td>\n",
              "      <td>15.339502</td>\n",
              "      <td>0.00037</td>\n",
              "    </tr>\n",
              "    <tr>\n",
              "      <th>1</th>\n",
              "      <td>and</td>\n",
              "      <td>128635</td>\n",
              "      <td>0.000024</td>\n",
              "      <td>15.339502</td>\n",
              "      <td>0.00037</td>\n",
              "    </tr>\n",
              "    <tr>\n",
              "      <th>2</th>\n",
              "      <td>the</td>\n",
              "      <td>123648</td>\n",
              "      <td>0.000024</td>\n",
              "      <td>15.339502</td>\n",
              "      <td>0.00037</td>\n",
              "    </tr>\n",
              "    <tr>\n",
              "      <th>3</th>\n",
              "      <td>you</td>\n",
              "      <td>106042</td>\n",
              "      <td>0.000024</td>\n",
              "      <td>15.339502</td>\n",
              "      <td>0.00037</td>\n",
              "    </tr>\n",
              "    <tr>\n",
              "      <th>4</th>\n",
              "      <td>it</td>\n",
              "      <td>99341</td>\n",
              "      <td>0.000024</td>\n",
              "      <td>15.339502</td>\n",
              "      <td>0.00037</td>\n",
              "    </tr>\n",
              "  </tbody>\n",
              "</table>\n",
              "</div>"
            ],
            "text/plain": [
              "  words  frequency   p(word)  surprisal  code length\n",
              "0     i     152884  0.000024  15.339502      0.00037\n",
              "1   and     128635  0.000024  15.339502      0.00037\n",
              "2   the     123648  0.000024  15.339502      0.00037\n",
              "3   you     106042  0.000024  15.339502      0.00037\n",
              "4    it      99341  0.000024  15.339502      0.00037"
            ]
          },
          "metadata": {
            "tags": []
          },
          "execution_count": 6
        }
      ]
    },
    {
      "cell_type": "code",
      "metadata": {
        "id": "VXSYj7cnMvn3",
        "colab_type": "code",
        "colab": {}
      },
      "source": [
        "#entropy of English given that if words are chosen uniformly\n",
        "print(\"entropy:\" + str(np.sum(dict_of_words2['code length'])))"
      ],
      "execution_count": null,
      "outputs": []
    },
    {
      "cell_type": "markdown",
      "metadata": {
        "id": "QE2DPjyJMvn9",
        "colab_type": "text"
      },
      "source": [
        "#### Is the game “20 questions” is a fair game in  *scenario b*?\n",
        "- Can a player win more than half the time—assuming the word being guessed is chosen **uniformly**? \n",
        "\n",
        "> If the words are chosen uniformly, then the game '20 questions' is not fair because most of the time, the player requires $\\textbf{15.34 bits}$ of information or about 15 or 16 questions to determine which word is being referred to, therefore, the player would likely to lose game."
      ]
    },
    {
      "cell_type": "markdown",
      "metadata": {
        "id": "xVhQnWmmMvn9",
        "colab_type": "text"
      },
      "source": [
        "<h2 style=\"page-break-before: always;\">How many bits of information will a person need to guess a word if they are given the first character?</h2>\n",
        "\n",
        "To answer this question, I will calculte the conditional entropy over words in English conditioning on the first character of each word."
      ]
    },
    {
      "cell_type": "code",
      "metadata": {
        "id": "oE_C_xajMvn-",
        "colab_type": "code",
        "colab": {}
      },
      "source": [
        "#update original dataframe by removing unneeded columns\n",
        "dict_of_words = dict_of_words.drop(columns=['surprisal', 'code length'])\n",
        "\n",
        "#added a new column with first lettter of word\n",
        "dict_of_words['first letter'] = dict_of_words['words'].astype(str).str[0] \n",
        "\n",
        "#function to calculate entropy of each character\n",
        "def entropy(p):\n",
        "    total = 0\n",
        "    for prob in p:\n",
        "        total += prob * (- np.log2(prob))\n",
        "    return(total)\n",
        "\n",
        "\n",
        "characters = ['a','b','c','d','e','f','g','h','i','j','k','l','m',\n",
        "              'n','o','p','q','r','s','t','u','v','w','x','y','z']\n",
        "\n",
        "              \n",
        "characters_count = {'a': 0, 'b': 0, 'c': 0, 'd': 0, 'e':0, 'f': 0, \n",
        "                    'g': 0, 'h': 0, 'i': 0, 'j':0,'k': 0, 'l': 0, \n",
        "                    'm': 0, 'n':0, 'o': 0, 'p': 0, 'q': 0, 'r':0, \n",
        "                    's': 0, 't': 0, 'u': 0, 'v':0, 'w': 0, 'x': 0, \n",
        "                    'y': 0, 'z':0}\n",
        "\n",
        "#storing entropy values for each character\n",
        "conditional_entropy = []\n",
        "for c in characters:\n",
        "    sumprob = 0\n",
        "    sumprob_list = []\n",
        "    for f in np.arange(dict_of_words.shape[0]):\n",
        "        if c == (dict_of_words['first letter'])[f]:\n",
        "            sumprob += dict_of_words['p(word)'][f]\n",
        "            characters_count[c] +=1 \n",
        "    for g in np.arange(dict_of_words.shape[0]):\n",
        "        if c == (dict_of_words['first letter'])[g]:\n",
        "            sumprob_list.append((dict_of_words['p(word)'])[g] / sumprob)\n",
        "    conditional_entropy.append(entropy(sumprob_list))"
      ],
      "execution_count": null,
      "outputs": []
    },
    {
      "cell_type": "markdown",
      "metadata": {
        "id": "thm4Yy4SMvoB",
        "colab_type": "text"
      },
      "source": [
        "####  Visualization"
      ]
    },
    {
      "cell_type": "code",
      "metadata": {
        "id": "_bBzrTOHMvoC",
        "colab_type": "code",
        "colab": {
          "base_uri": "https://localhost:8080/",
          "height": 299
        },
        "outputId": "27811f7f-dcea-4d94-e9f9-2033ae088f98"
      },
      "source": [
        "plt.style.use('ggplot')\n",
        "plt.bar(characters, conditional_entropy)\n",
        "plt.xlabel('alphabetical letters')\n",
        "plt.ylabel('Conditional Entropy (bits)')\n",
        "plt.title('Conditional Entropy Based on First Letter of a Word')\n",
        "plt.show()"
      ],
      "execution_count": null,
      "outputs": [
        {
          "output_type": "display_data",
          "data": {
            "image/png": "[encoded data removed]",
            "text/plain": [
              "<Figure size 432x288 with 1 Axes>"
            ]
          },
          "metadata": {
            "tags": []
          }
        }
      ]
    },
    {
      "cell_type": "code",
      "metadata": {
        "id": "vCEexVtIMvoF",
        "colab_type": "code",
        "colab": {
          "base_uri": "https://localhost:8080/",
          "height": 54
        },
        "outputId": "d43bbb13-eea6-44a1-d855-60efb27c48af"
      },
      "source": [
        "# total count for each word's first character/letter\n",
        "print(characters_count)"
      ],
      "execution_count": null,
      "outputs": [
        {
          "output_type": "stream",
          "text": [
            "{'a': 2490, 'b': 2396, 'c': 4018, 'd': 2447, 'e': 1694, 'f': 1868, 'g': 1256, 'h': 1556, 'i': 1498, 'j': 441, 'k': 439, 'l': 1413, 'm': 2231, 'n': 985, 'o': 1081, 'p': 3219, 'q': 167, 'r': 2501, 's': 4662, 't': 2259, 'u': 765, 'v': 587, 'w': 1203, 'x': 23, 'y': 171, 'z': 90}\n"
          ],
          "name": "stdout"
        }
      ]
    },
    {
      "cell_type": "markdown",
      "metadata": {
        "id": "h9CGWPoRMvoI",
        "colab_type": "text"
      },
      "source": [
        "> Here is a noticeable pattern:   <br>\n",
        "<br>\n",
        "> the more words that begin with the character, more information is needed to guess a word e.g. 'c', 'p' and the other way around where less information is needed for words that have less words that beign with the character e.g. 'x'.<br>\n",
        "<br>\n",
        ">However, this is only a minor influence at play, because we see words there are more words that begin with 'd' than 'e', but words that begin with 'e' requires more information to uncover the word completely. But given the first character of the word, some characters will give more information initially which allows the person to uncover the word quicker than other characters. It seems there are extra variables at play."
      ]
    },
    {
      "cell_type": "markdown",
      "metadata": {
        "id": "EmyBbWu9MvoJ",
        "colab_type": "text"
      },
      "source": [
        "## Word Identity\n",
        "\n",
        "Guessing letters can help a person uncover the word, but guessing them strategically can reveal more information than guessing it randomly. But, how much of a word's identity is solely reveal based on the position of the character or having a vowel/consonant?\n",
        "\n",
        "I'll be calculating **mutual information** based on three conditions: \n",
        "\n",
        "- first character\n",
        "- last character\n",
        "- first vowel "
      ]
    },
    {
      "cell_type": "markdown",
      "metadata": {
        "id": "bCODz2uUMvoJ",
        "colab_type": "text"
      },
      "source": [
        "#### a) first character "
      ]
    },
    {
      "cell_type": "code",
      "metadata": {
        "id": "r--PaHNJMvoM",
        "colab_type": "code",
        "colab": {
          "base_uri": "https://localhost:8080/",
          "height": 34
        },
        "outputId": "74d281b0-e8ac-4058-c838-3d1de20b1d41"
      },
      "source": [
        "mutual_info_firstletter = 0 \n",
        "conditional_entropy_first_letter = []\n",
        "characters = ['a','b','c','d','e','f','g','h','i','j','k','l','m',\n",
        "              'n','o','p','q','r','s','t','u','v','w','x','y','z']\n",
        "each_letter_sump = []\n",
        "for c in characters:\n",
        "    sumprob = 0\n",
        "    sumprob_list = []\n",
        "    for f in np.arange(dict_of_words.shape[0]):\n",
        "        if c == (dict_of_words['first letter'])[f]:\n",
        "            sumprob += dict_of_words['p(word)'][f] \n",
        "    for g in np.arange(dict_of_words.shape[0]):\n",
        "        if c == (dict_of_words['first letter'])[g]:\n",
        "            sumprob_list.append((dict_of_words['p(word)'])[g] / sumprob)\n",
        "    conditional_entropy_first_letter.append(entropy(sumprob_list))\n",
        "    each_letter_sump.append(sumprob)\n",
        "mutual_info_firstletter = entropy(dict_of_words['p(word)'])\n",
        "\n",
        "for i in range(len(conditional_entropy_first_letter)):\n",
        "    mutual_info_firstletter -= each_letter_sump[i] * conditional_entropy_first_letter[i]\n",
        "    \n",
        "print(\"mutual info for first letter: \" + str(mutual_info_firstletter))\n"
      ],
      "execution_count": null,
      "outputs": [
        {
          "output_type": "stream",
          "text": [
            "mutual info for first letter: 4.189824469064531\n"
          ],
          "name": "stdout"
        }
      ]
    },
    {
      "cell_type": "markdown",
      "metadata": {
        "id": "lkX5ULyHMvoS",
        "colab_type": "text"
      },
      "source": [
        "#### 2) the last character  "
      ]
    },
    {
      "cell_type": "code",
      "metadata": {
        "id": "2WoW62XMMvoS",
        "colab_type": "code",
        "colab": {
          "base_uri": "https://localhost:8080/",
          "height": 34
        },
        "outputId": "463e516a-47bf-48cc-98fc-502cf714c81b"
      },
      "source": [
        "#updating df by adding a column final letter in the word\n",
        "dict_of_words['last letter'] = dict_of_words['words'].astype(str).str[-1]\n",
        "\n",
        "mutual_info_lastletter = 0 \n",
        "conditional_entropy_last_letter = []\n",
        "characters = ['a','b','c','d','e','f','g','h','i','j','k','l','m',\n",
        "              'n','o','p','q','r','s','t','u','v','w','x','y','z']\n",
        "each_letter_sump = []\n",
        "for c in characters:\n",
        "    sumprob = 0\n",
        "    sumprob_list = []\n",
        "    for f in np.arange(dict_of_words.shape[0]):\n",
        "        if c == (dict_of_words['last letter'])[f]:\n",
        "            sumprob += dict_of_words['p(word)'][f] \n",
        "    for g in np.arange(dict_of_words.shape[0]):\n",
        "        if c == (dict_of_words['last letter'])[g]:\n",
        "            sumprob_list.append((dict_of_words['p(word)'])[g] / sumprob)\n",
        "    conditional_entropy_last_letter.append(entropy(sumprob_list))\n",
        "    each_letter_sump.append(sumprob)\n",
        "mutual_info_lastletter = entropy(dict_of_words['p(word)'])\n",
        "\n",
        "for i in range(len(conditional_entropy_last_letter)):\n",
        "    mutual_info_lastletter -= each_letter_sump[i] * conditional_entropy_last_letter[i]\n",
        "    \n",
        "print(\"mutual information for last letter: \" + str(mutual_info_lastletter))"
      ],
      "execution_count": null,
      "outputs": [
        {
          "output_type": "stream",
          "text": [
            "mutual information for last letter: 3.8987337024307105\n"
          ],
          "name": "stdout"
        }
      ]
    },
    {
      "cell_type": "markdown",
      "metadata": {
        "id": "KyaHzA99MvoW",
        "colab_type": "text"
      },
      "source": [
        "#### 3) the first vowel (aeiou)"
      ]
    },
    {
      "cell_type": "code",
      "metadata": {
        "id": "HEEdF_QgMvoW",
        "colab_type": "code",
        "colab": {
          "base_uri": "https://localhost:8080/",
          "height": 34
        },
        "outputId": "3bee2371-2ce7-4f78-f501-bc334e70b332"
      },
      "source": [
        "mutual_info_firstvowel = 0\n",
        "conditional_entropy_firstvowel = []\n",
        "num_of_words = len(dict_of_words)\n",
        "vowels_word_prob = {'a': 0, 'e': 0, 'i': 0, 'o': 0, 'u':0}\n",
        "vowels_word_count = {'a': 0, 'e': 0, 'i': 0, 'o': 0, 'u':0}\n",
        "vowels = ['a','e','i','o','u']\n",
        "\n",
        "for v in vowels:\n",
        "    for row in range(num_of_words):\n",
        "        for word in str(dict_of_words.iloc[row,0]):\n",
        "            for letter in word:\n",
        "                if (letter in vowels) and (letter == v):\n",
        "                    vowels_word_prob[letter] += dict_of_words.iloc[row,2]\n",
        "                    vowels_word_count[letter] += 1\n",
        "                    break\n",
        "                else:\n",
        "                    if (letter in vowels) and (letter != v):\n",
        "                        break\n",
        "            else:\n",
        "                break           \n",
        "for v in vowels:\n",
        "    sum_problist = []\n",
        "    for row in range(num_of_words):\n",
        "        for word in str(dict_of_words.iloc[row, 0]):\n",
        "            for letter in word:\n",
        "                if (letter in vowels) and (letter == v):\n",
        "                        p_word = dict_of_words.iloc[row,2]\n",
        "                        sum_problist.append(p_word / vowels_word_count[letter])\n",
        "                        break\n",
        "                else:\n",
        "                    if (letter in vowels) and (letter != v):\n",
        "                        break\n",
        "            else:\n",
        "                break\n",
        "    conditional_entropy_firstvowel.append(entropy(sum_problist))\n",
        "mutual_info_firstvowel = entropy(dict_of_words['p(word)'])\n",
        "\n",
        "for i in range(len(conditional_entropy_firstvowel)):\n",
        "    mutual_info_firstvowel -= vowels_word_count[vowels[i]] * conditional_entropy_firstvowel[i]\n",
        "\n",
        "print(\"mutual info for first vowel: \" + str(mutual_info_firstvowel))   \n",
        "        "
      ],
      "execution_count": null,
      "outputs": [
        {
          "output_type": "stream",
          "text": [
            "mutual info for first vowel: 3.206682938333398\n"
          ],
          "name": "stdout"
        }
      ]
    },
    {
      "cell_type": "markdown",
      "metadata": {
        "id": "18GQ3AC2MvoZ",
        "colab_type": "text"
      },
      "source": [
        "#### Visualizaiton"
      ]
    },
    {
      "cell_type": "code",
      "metadata": {
        "id": "zBUxvzB8Mvod",
        "colab_type": "code",
        "colab": {
          "base_uri": "https://localhost:8080/",
          "height": 299
        },
        "outputId": "5cd12a6c-5036-4df7-f83f-36c005f991bb"
      },
      "source": [
        "mutual_info = [mutual_info_firstletter, mutual_info_lastletter, mutual_info_firstvowel]\n",
        "\n",
        "plt.style.use('ggplot')\n",
        "plt.bar(['first character', 'last character', 'first vowel'],mutual_info)\n",
        "plt.ylabel('mutual Information')\n",
        "plt.xlabel('information conveyed')\n",
        "plt.title('Word Identity')\n",
        "plt.show()"
      ],
      "execution_count": null,
      "outputs": [
        {
          "output_type": "display_data",
          "data": {
            "image/png": "[encoded data removed]",
            "text/plain": [
              "<Figure size 432x288 with 1 Axes>"
            ]
          },
          "metadata": {
            "tags": []
          }
        }
      ]
    },
    {
      "cell_type": "markdown",
      "metadata": {
        "id": "YS1Kl1RmMvoh",
        "colab_type": "text"
      },
      "source": [
        "> After the calculations, I would predict the first character is most important for a word recognition because as reflected by the plot, it possesses the highest mutual information which allows an individual to have **the most reduction in the uncertainty** of the word identity that is being conveyed. But it seems, as long as a person is given a character in certain position, s/he is likely to uncover the identity of the words."
      ]
    },
    {
      "cell_type": "markdown",
      "metadata": {
        "id": "oKO0vArNMvoi",
        "colab_type": "text"
      },
      "source": [
        "## The length of the word might (or might not) surprise you ! \n",
        "\n",
        "We can consider the length of the word and calculate the average amount of self-information an observer would expect to gain about the variable when measuring it.\n",
        "\n",
        "The assumptions are the following, according to Shannon Claude:\n",
        "- as length of words increase, the probability of the event would decrease, and as a result, we would be more surprised as larger amount of information.\n",
        "- an event with the probability of 1 is not surprising and yields no information.\n",
        "\n",
        "That means for American English words that are frequently used, we expect to have efficient codes for them therefore they would have shorter code lengths. "
      ]
    },
    {
      "cell_type": "code",
      "metadata": {
        "id": "fV-HEUhsMvoi",
        "colab_type": "code",
        "colab": {}
      },
      "source": [
        "def surprisal(p):\n",
        "    total = 0\n",
        "    length = 0\n",
        "    if len(p) == 0:\n",
        "        return(total)\n",
        "    else:\n",
        "        for prob in p:\n",
        "            total+= (- np.log2(prob))\n",
        "            length += 1\n",
        "        return(total / length)\n",
        "\n",
        "\n",
        "\n",
        "max_length = 0\n",
        "for word in dict_of_words['words']:\n",
        "    current = len(str(word))\n",
        "    if current > max_length:\n",
        "        max_length = current\n",
        "\n",
        "average_surprisal = []\n",
        "for l in range(max_length):\n",
        "    sumprob = 0\n",
        "    p_x_d = []\n",
        "    count = 0\n",
        "    for word in dict_of_words['words']:\n",
        "        if len(str(word)) == l:\n",
        "            sumprob += dict_of_words['p(word)'][count]\n",
        "        count += 1\n",
        "    count = 0\n",
        "    for word in dict_of_words['words']:\n",
        "        if len(str(word)) == l:\n",
        "            p_x_d.append(dict_of_words['p(word)'][count] / sumprob)\n",
        "        count += 1\n",
        "    average_surprisal.append(entropy(p_x_d))"
      ],
      "execution_count": null,
      "outputs": []
    },
    {
      "cell_type": "markdown",
      "metadata": {
        "id": "CO-KLl95Mvon",
        "colab_type": "text"
      },
      "source": [
        "#### Visualization"
      ]
    },
    {
      "cell_type": "code",
      "metadata": {
        "id": "6busRInIMvoo",
        "colab_type": "code",
        "colab": {
          "base_uri": "https://localhost:8080/",
          "height": 299
        },
        "outputId": "fca224d0-3e80-472a-b7cb-a20e8498857b"
      },
      "source": [
        "plt.style.use('ggplot')\n",
        "plt.bar(np.arange(max_length),average_surprisal)\n",
        "plt.xlabel('length of the word')\n",
        "plt.ylabel('surprisal')\n",
        "plt.title('Average surprisal of words over certain lengths')\n",
        "plt.show()"
      ],
      "execution_count": null,
      "outputs": [
        {
          "output_type": "display_data",
          "data": {
            "image/png": "[encoded data removed]",
            "text/plain": [
              "<Figure size 432x288 with 1 Axes>"
            ]
          },
          "metadata": {
            "tags": []
          }
        }
      ]
    },
    {
      "cell_type": "markdown",
      "metadata": {
        "id": "ktjKikgDMvou",
        "colab_type": "text"
      },
      "source": [
        ">However, it seems that we're definitely in for a surprise. If English were an efficient code in Shannon's sense, the plot would've been positive and linear; however that is not the case. \n",
        " - Where my plot agrees with Shannon sense is when the word length is $0$ because it has a probability of 1 occurring thus we should not be surprised about it.\n",
        " - The rest of the plot does not agree with Shannon sense as an efficient code because I expected more probable events like the word length of three would have shorter codewords thus the average surprisal should be lower. It seems the average surprisal seem to be \"efficient\" as the length of the word increase up until word lengths are about 7 and 8. But, then we see the trend juxtaposes our initial intuition because the average surprisal seem to decrease as the length of the word increase.  \n",
        " \n",
        ">Overall, I conclude English is not an efficient code in Shannon sense after it reaches a certain word length. "
      ]
    },
    {
      "cell_type": "markdown",
      "metadata": {
        "id": "rCOdkiJcMvov",
        "colab_type": "text"
      },
      "source": [
        "## Recap and final remarks  \n",
        "\n",
        "I was able to conduct some information-calculations over the English language using a dictionary of words.  \n",
        "> - A player would have better odds of winning 20 Questions if the words being guessed are frequently used versus if the words used has the same probability as an uncommon word. \n",
        "> - If a player is given the first character of the word, depending on the character, the player might need a bit or a lot more information to guess the right word.\n",
        "> - It turns out, the first character gives the most information about a word identity. But, the word's final character and the first vowel can reveal almost as much information!\n",
        "> - English language is not efficient code in Shannon sense since the average surprisal were higher for shorter length of the words and lower for longer length of the words.  \n",
        "\n",
        "Of course, this overall analysis is based on a dictionary of words which most frequent words may not be optimized since it is more generalized than individualized. There are a lot of attributes that make up how words are used, which can be further investigated on the microlevel such as the structure of the word itself to a macrolevel where the words are used in a social setting."
      ]
    },
    {
      "cell_type": "markdown",
      "metadata": {
        "id": "Km0GEhXxMvow",
        "colab_type": "text"
      },
      "source": [
        "<hr>\n",
        "\n",
        "#### Acknowledgement\n",
        "\n",
        "$\\scriptsize{\\text{   Piantadosi, Steven. \"Information I.\" CogSci 131 Computational Modeling in Cognition. 14 April 2020, University of California, Berkeley. Class lecture.}}$\n",
        "$\\scriptsize{\\text{   Piantadosi, Steven. \"Information II.\" CogSci 131 Computational Modeling in Cognition. 16 April 2020, University of California, Berkeley. Class lecture.}}$\n",
        "$\\scriptsize{\\text{   Piantadosi, Steven. \"Dictionary of Words: English Language (data set)\". CogSci 131 Computational Modeling in Cognition. 16 April 2020, University of California, Berkeley. <http://colala.berkeley.edu/>}}$"
      ]
    }
  ]
}